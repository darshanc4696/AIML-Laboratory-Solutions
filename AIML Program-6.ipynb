{
 "cells": [
  {
   "cell_type": "code",
   "execution_count": 1,
   "id": "ba4110a9",
   "metadata": {},
   "outputs": [],
   "source": [
    "import pandas as pd\n",
    "import numpy as np"
   ]
  },
  {
   "cell_type": "code",
   "execution_count": 2,
   "id": "bc218451",
   "metadata": {},
   "outputs": [
    {
     "data": {
      "text/html": [
       "<div>\n",
       "<style scoped>\n",
       "    .dataframe tbody tr th:only-of-type {\n",
       "        vertical-align: middle;\n",
       "    }\n",
       "\n",
       "    .dataframe tbody tr th {\n",
       "        vertical-align: top;\n",
       "    }\n",
       "\n",
       "    .dataframe thead th {\n",
       "        text-align: right;\n",
       "    }\n",
       "</style>\n",
       "<table border=\"1\" class=\"dataframe\">\n",
       "  <thead>\n",
       "    <tr style=\"text-align: right;\">\n",
       "      <th></th>\n",
       "      <th>Outlook</th>\n",
       "      <th>Temperature</th>\n",
       "      <th>Humidity</th>\n",
       "      <th>Windy</th>\n",
       "      <th>PlayTennis</th>\n",
       "    </tr>\n",
       "  </thead>\n",
       "  <tbody>\n",
       "    <tr>\n",
       "      <th>0</th>\n",
       "      <td>Sunny</td>\n",
       "      <td>Hot</td>\n",
       "      <td>High</td>\n",
       "      <td>False</td>\n",
       "      <td>No</td>\n",
       "    </tr>\n",
       "    <tr>\n",
       "      <th>1</th>\n",
       "      <td>Sunny</td>\n",
       "      <td>Hot</td>\n",
       "      <td>High</td>\n",
       "      <td>True</td>\n",
       "      <td>No</td>\n",
       "    </tr>\n",
       "    <tr>\n",
       "      <th>2</th>\n",
       "      <td>Overcast</td>\n",
       "      <td>Hot</td>\n",
       "      <td>High</td>\n",
       "      <td>False</td>\n",
       "      <td>Yes</td>\n",
       "    </tr>\n",
       "    <tr>\n",
       "      <th>3</th>\n",
       "      <td>Rainy</td>\n",
       "      <td>Mild</td>\n",
       "      <td>High</td>\n",
       "      <td>False</td>\n",
       "      <td>Yes</td>\n",
       "    </tr>\n",
       "    <tr>\n",
       "      <th>4</th>\n",
       "      <td>Rainy</td>\n",
       "      <td>Cool</td>\n",
       "      <td>Normal</td>\n",
       "      <td>False</td>\n",
       "      <td>Yes</td>\n",
       "    </tr>\n",
       "  </tbody>\n",
       "</table>\n",
       "</div>"
      ],
      "text/plain": [
       "    Outlook Temperature Humidity  Windy PlayTennis\n",
       "0     Sunny         Hot     High  False         No\n",
       "1     Sunny         Hot     High   True         No\n",
       "2  Overcast         Hot     High  False        Yes\n",
       "3     Rainy        Mild     High  False        Yes\n",
       "4     Rainy        Cool   Normal  False        Yes"
      ]
     },
     "execution_count": 2,
     "metadata": {},
     "output_type": "execute_result"
    }
   ],
   "source": [
    "data = pd.read_csv(\"C:\\\\Users\\\\Darshan Gowda C\\\\Desktop\\\\jupyter\\\\0. Datasets\\\\tennisdata.csv\")\n",
    "data.head()"
   ]
  },
  {
   "cell_type": "code",
   "execution_count": 8,
   "id": "7dcde8ad",
   "metadata": {},
   "outputs": [
    {
     "name": "stdout",
     "output_type": "stream",
     "text": [
      "Feature data \n",
      "------------------------------------\n",
      "      Outlook Temperature Humidity  Windy\n",
      "0      Sunny         Hot     High  False\n",
      "1      Sunny         Hot     High   True\n",
      "2   Overcast         Hot     High  False\n",
      "3      Rainy        Mild     High  False\n",
      "4      Rainy        Cool   Normal  False\n",
      "5      Rainy        Cool   Normal   True\n",
      "6   Overcast        Cool   Normal   True\n",
      "7      Sunny        Mild     High  False\n",
      "8      Sunny        Cool   Normal  False\n",
      "9      Rainy        Mild   Normal  False\n",
      "10     Sunny        Mild   Normal   True\n",
      "11  Overcast        Mild     High   True\n",
      "12  Overcast         Hot   Normal  False\n",
      "13     Rainy        Mild     High   True \n",
      "-------------------------------------\n",
      "target data\n",
      "--------------------------------\n",
      " 0      No\n",
      "1      No\n",
      "2     Yes\n",
      "3     Yes\n",
      "4     Yes\n",
      "5      No\n",
      "6     Yes\n",
      "7      No\n",
      "8     Yes\n",
      "9     Yes\n",
      "10    Yes\n",
      "11    Yes\n",
      "12    Yes\n",
      "13     No\n",
      "Name: PlayTennis, dtype: object\n"
     ]
    }
   ],
   "source": [
    "X = data.iloc[:,:-1]\n",
    "y = data.iloc[:,-1]\n",
    "print('Feature data \\n------------------------------------\\n',X,\"\\n-------------------------------------\\ntarget data\\n--------------------------------\\n\",y)"
   ]
  },
  {
   "cell_type": "code",
   "execution_count": 12,
   "id": "7428a2c9",
   "metadata": {},
   "outputs": [],
   "source": [
    "from sklearn.preprocessing import LabelEncoder\n",
    "LE = LabelEncoder()"
   ]
  },
  {
   "cell_type": "code",
   "execution_count": 13,
   "id": "7462e572",
   "metadata": {
    "scrolled": true
   },
   "outputs": [
    {
     "name": "stdout",
     "output_type": "stream",
     "text": [
      "Input values are\n",
      "     Outlook  Temperature  Humidity  Windy\n",
      "0         2            1         0      0\n",
      "1         2            1         0      1\n",
      "2         0            1         0      0\n",
      "3         1            2         0      0\n",
      "4         1            0         1      0\n",
      "5         1            0         1      1\n",
      "6         0            0         1      1\n",
      "7         2            2         0      0\n",
      "8         2            0         1      0\n",
      "9         1            2         1      0\n",
      "10        2            2         1      1\n",
      "11        0            2         0      1\n",
      "12        0            1         1      0\n",
      "13        1            2         0      1 \n",
      "\n",
      "Target values are\n",
      " [0 0 1 1 1 0 1 0 1 1 1 1 1 0]\n"
     ]
    }
   ],
   "source": [
    "X.Outlook = LE.fit_transform(X.Outlook)\n",
    "X.Temperature = LE.fit_transform(X.Temperature)\n",
    "X.Humidity = LE.fit_transform(X.Humidity)\n",
    "X.Windy = LE.fit_transform(X.Windy)\n",
    "print(\"Input values are\\n\",X,\"\\n\")\n",
    "\n",
    "y = LE.fit_transform(y)\n",
    "print(\"Target values are\\n\",y)"
   ]
  },
  {
   "cell_type": "code",
   "execution_count": 43,
   "id": "9847561d",
   "metadata": {},
   "outputs": [
    {
     "name": "stdout",
     "output_type": "stream",
     "text": [
      "Confusion matrix: \n",
      " [[1 0]\n",
      " [0 5]]\n",
      "Accuracy is: 1.0\n"
     ]
    }
   ],
   "source": [
    "from sklearn.model_selection import train_test_split\n",
    "xtrain, xtest, ytrain, ytest = train_test_split(X, y, test_size=0.40)\n",
    "\n",
    "from sklearn.naive_bayes import GaussianNB\n",
    "model = GaussianNB()\n",
    "model.fit(xtrain,ytrain)\n",
    "ypred = model.predict(xtest)\n",
    "\n",
    "\n",
    "from sklearn.metrics import confusion_matrix, accuracy_score\n",
    "print(\"Confusion matrix: \\n\", confusion_matrix(ytest, ypred))\n",
    "print(\"Accuracy is:\", accuracy_score(ytest, ypred))"
   ]
  },
  {
   "cell_type": "code",
   "execution_count": null,
   "id": "5ef5538e",
   "metadata": {},
   "outputs": [],
   "source": []
  },
  {
   "cell_type": "code",
   "execution_count": null,
   "id": "983ec949",
   "metadata": {},
   "outputs": [],
   "source": []
  }
 ],
 "metadata": {
  "kernelspec": {
   "display_name": "Python 3 (ipykernel)",
   "language": "python",
   "name": "python3"
  },
  "language_info": {
   "codemirror_mode": {
    "name": "ipython",
    "version": 3
   },
   "file_extension": ".py",
   "mimetype": "text/x-python",
   "name": "python",
   "nbconvert_exporter": "python",
   "pygments_lexer": "ipython3",
   "version": "3.11.2"
  }
 },
 "nbformat": 4,
 "nbformat_minor": 5
}
